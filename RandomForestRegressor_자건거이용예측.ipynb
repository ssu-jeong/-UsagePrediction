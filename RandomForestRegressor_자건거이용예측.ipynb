{
  "nbformat": 4,
  "nbformat_minor": 0,
  "metadata": {
    "colab": {
      "name": "RandomForestRegressor_자건거이용예측.ipynb",
      "private_outputs": true,
      "provenance": [],
      "collapsed_sections": [
        "MdvtslOzY5bx",
        "PHTfkDi_N16J",
        "zz0wu4b49h5u",
        "lQKI4uxT-Z-e",
        "jnXG_eVl-jY4",
        "94xQCYKf-24m",
        "dR2UQNx-_C9Y",
        "kSMFC5zX0NTW"
      ],
      "authorship_tag": "ABX9TyPEZ7AbgjzPvia2utfilUIb",
      "include_colab_link": true
    },
    "kernelspec": {
      "name": "python3",
      "display_name": "Python 3"
    },
    "language_info": {
      "name": "python"
    }
  },
  "cells": [
    {
      "cell_type": "markdown",
      "metadata": {
        "id": "view-in-github",
        "colab_type": "text"
      },
      "source": [
        "<a href=\"https://colab.research.google.com/github/ssu-jeong/codestates_project/blob/main/RandomForestRegressor_%EC%9E%90%EA%B1%B4%EA%B1%B0%EC%9D%B4%EC%9A%A9%EC%98%88%EC%B8%A1.ipynb\" target=\"_parent\"><img src=\"https://colab.research.google.com/assets/colab-badge.svg\" alt=\"Open In Colab\"/></a>"
      ]
    },
    {
      "cell_type": "markdown",
      "metadata": {
        "id": "-alho7eu889n"
      },
      "source": [
        "### install & import"
      ]
    },
    {
      "cell_type": "code",
      "metadata": {
        "id": "c2j-bqs5aLgd"
      },
      "source": [
        "# Google Colab을 사용하는 경우 해당 셀을 실행하세요\n",
        "%%capture\n",
        "import sys\n",
        "\n",
        "if 'google.colab' in sys.modules:\n",
        "    # Install packages in Colab\n",
        "    !pip install category_encoders==2.*\n",
        "    !pip install eli5\n",
        "    !pip install pandas-profiling==2.*\n",
        "    !pip install pdpbox\n",
        "    !pip install shap"
      ],
      "execution_count": null,
      "outputs": []
    },
    {
      "cell_type": "code",
      "metadata": {
        "id": "hYFlSkJRLgZQ"
      },
      "source": [
        "import numpy as np # linear algebra\n",
        "import pandas as pd # data processing, CSV file I/O (e.g. pd.read_csv)\n",
        "import matplotlib.pyplot as plt\n",
        "import seaborn as sns\n",
        "%matplotlib inline\n",
        "from datetime import datetime\n",
        "#Importing Models\n",
        "from sklearn.ensemble import RandomForestRegressor #,BaggingRegressor,AdaBoostRegressor\n",
        "from xgboost import XGBRegressor\n",
        "from sklearn.compose import TransformedTargetRegressor\n",
        "#importing Preprocess \n",
        "from sklearn.model_selection import train_test_split, GridSearchCV, RandomizedSearchCV\n",
        "from category_encoders import OrdinalEncoder, TargetEncoder\n",
        "from sklearn.impute import SimpleImputer\n",
        "from sklearn.pipeline import make_pipeline\n",
        "from scipy.stats import randint,uniform\n",
        "\n",
        "#importing Evaluation Metrics\n",
        "from sklearn.metrics import mean_absolute_error,mean_squared_error,r2_score\n",
        "from sklearn.metrics import mean_squared_log_error\n",
        "import warnings\n",
        "warnings.simplefilter(action='ignore', category=FutureWarning)\n",
        "\n",
        "import eli5\n",
        "from eli5.sklearn import PermutationImportance"
      ],
      "execution_count": null,
      "outputs": []
    },
    {
      "cell_type": "code",
      "metadata": {
        "id": "-HlT8qNSaXQh"
      },
      "source": [
        "#드라이브에 접근할 수 있도록 아래 코드 입력\n",
        "from google.colab import drive\n",
        "drive.mount('/content/drive')"
      ],
      "execution_count": null,
      "outputs": []
    },
    {
      "cell_type": "code",
      "metadata": {
        "id": "cMcUmCohabZa"
      },
      "source": [
        "#불러올 파일의 경로를 filename 변수에 저장\n",
        "test = '/content/drive/MyDrive/bike-sharing-demand/test.csv'\n",
        "train = '/content/drive/MyDrive/bike-sharing-demand/train.csv'"
      ],
      "execution_count": null,
      "outputs": []
    },
    {
      "cell_type": "markdown",
      "metadata": {
        "id": "C74Z9YnbCE3H"
      },
      "source": [
        "datetime - hourly date + timestamp \n",
        "\n",
        "season -  1 = spring, 2 = summer, 3 = fall, 4 = winter \n",
        "\n",
        "holiday - whether the day is considered a holiday\n",
        "\n",
        "workingday - whether the day is neither a weekend nor holiday\n",
        "\n",
        "weather - \n",
        "1: Clear, Few clouds, Partly cloudy, Partly cloudy 2: Mist + Cloudy, Mist + Broken clouds, Mist + Few clouds, Mist\n",
        "3: Light Snow, Light Rain + Thunderstorm + Scattered clouds, Light Rain + Scattered clouds\n",
        "\n",
        "4: Heavy Rain + Ice Pallets + Thunderstorm + Mist, Snow + Fog \n",
        "\n",
        "temp - temperature in Celsius\n",
        "\n",
        "atemp - \"feels like\" temperature in Celsius\n",
        "humidity - relative humidity\n",
        "\n",
        "windspeed - wind speed\n",
        "\n",
        "casual - number of non-registered user rentals initiated\n",
        "\n",
        "registered - number of registered user \n",
        "rentals initiated\n",
        "\n",
        "count - number of total rentals"
      ]
    },
    {
      "cell_type": "code",
      "metadata": {
        "id": "e5hEcRsIcqGA"
      },
      "source": [
        "#pandas read_csv로 불러오기\n",
        "\n",
        "test = pd.read_csv(test)\n",
        "train = pd.read_csv(train)\n",
        "\n",
        "\n",
        "train"
      ],
      "execution_count": null,
      "outputs": []
    },
    {
      "cell_type": "code",
      "metadata": {
        "id": "fR9FFXVJ2VYn"
      },
      "source": [
        "test"
      ],
      "execution_count": null,
      "outputs": []
    },
    {
      "cell_type": "code",
      "metadata": {
        "id": "v4VrrMxPC43o"
      },
      "source": [
        "train.shape, test.shape"
      ],
      "execution_count": null,
      "outputs": []
    },
    {
      "cell_type": "code",
      "metadata": {
        "id": "n_aqerMy6S3s"
      },
      "source": [
        "#둘의 합이 count이므로 제외해도 되며 test셋과 컬럼수 맞출 수 있음.\n",
        "train.drop(['casual', 'registered'],1,inplace=True)"
      ],
      "execution_count": null,
      "outputs": []
    },
    {
      "cell_type": "markdown",
      "metadata": {
        "id": "MdvtslOzY5bx"
      },
      "source": [
        "### 베이스라인모델\n",
        "\n",
        "*  target평균\n",
        "*  RMSE : 180.29981403652582\n",
        "\n"
      ]
    },
    {
      "cell_type": "code",
      "metadata": {
        "id": "XeP0wm2wZEQ5"
      },
      "source": [
        "train.describe()[['count']]"
      ],
      "execution_count": null,
      "outputs": []
    },
    {
      "cell_type": "code",
      "metadata": {
        "id": "vwt6L6A1ZLmY"
      },
      "source": [
        "sns.displot(train['count']); #왼쪽으로 치우친 분포"
      ],
      "execution_count": null,
      "outputs": []
    },
    {
      "cell_type": "code",
      "metadata": {
        "id": "qAyWP46QZShs"
      },
      "source": [
        "sns.displot(np.log1p(train['count']),kde = True)\n",
        "\n",
        "plt.axvline(x = np.log1p(train['count'].mean()), color = 'red');\n",
        "plt.axvline(x = np.log1p(train['count'].median()), color = 'yellow');"
      ],
      "execution_count": null,
      "outputs": []
    },
    {
      "cell_type": "markdown",
      "metadata": {
        "id": "CFIQwHb4Z1Cv"
      },
      "source": [
        "오잉??? 이거 정규화 된거 맞나용??"
      ]
    },
    {
      "cell_type": "code",
      "metadata": {
        "id": "U4bbT4EBZ0yK"
      },
      "source": [
        "base_predict = train['count'].mean()\n",
        "base_pred = [base_predict] * len(train['count'])\n",
        "\n",
        "base_MSE = mean_squared_error(train['count'],base_pred)\n",
        "\n",
        "print(base_predict)\n",
        "print(f'MSE : {base_MSE}')"
      ],
      "execution_count": null,
      "outputs": []
    },
    {
      "cell_type": "code",
      "metadata": {
        "id": "_rq9dhzaaiKD"
      },
      "source": [
        "base_RMSE = np.sqrt(base_MSE)\n",
        "print(f'RMSE : {base_RMSE}')"
      ],
      "execution_count": null,
      "outputs": []
    },
    {
      "cell_type": "code",
      "metadata": {
        "id": "kEu_w0euajex"
      },
      "source": [
        "base_RMSLE = np.sqrt(mean_squared_log_error(train['count'],base_pred))\n",
        "print(f'RMSLE : {base_RMSLE}')"
      ],
      "execution_count": null,
      "outputs": []
    },
    {
      "cell_type": "markdown",
      "metadata": {
        "id": "PHTfkDi_N16J"
      },
      "source": [
        "### 데이터 전처리"
      ]
    },
    {
      "cell_type": "code",
      "metadata": {
        "id": "pPsq_-l3NzKA"
      },
      "source": [
        "train.info()"
      ],
      "execution_count": null,
      "outputs": []
    },
    {
      "cell_type": "markdown",
      "metadata": {
        "id": "rhEqx9Iu9GIi"
      },
      "source": [
        "다행히 결측치는 없다!\n"
      ]
    },
    {
      "cell_type": "code",
      "metadata": {
        "id": "ThftCT80N8G2"
      },
      "source": [
        "train.describe()"
      ],
      "execution_count": null,
      "outputs": []
    },
    {
      "cell_type": "markdown",
      "metadata": {
        "id": "yRGpzSwd9NRv"
      },
      "source": [
        "최소값 또는 최대값에 비정상적이거나 이상한 값이 없는 것 같다. -> 어떻게 알아??\n"
      ]
    },
    {
      "cell_type": "code",
      "metadata": {
        "id": "zituAEj39YdB"
      },
      "source": [
        "#from data describtion we can extract categorcal data and numerical data\n",
        "categorical_cols=['season','holiday','workingday','weather']\n",
        "numerical_cols=['temp','atemp','humidity','windspeed']\n",
        "target='count'"
      ],
      "execution_count": null,
      "outputs": []
    },
    {
      "cell_type": "markdown",
      "metadata": {
        "id": "zz0wu4b49h5u"
      },
      "source": [
        "### Adding timestamp data"
      ]
    },
    {
      "cell_type": "code",
      "metadata": {
        "id": "XI9Ai1Mt9l6L"
      },
      "source": [
        "#adding month,weekday and hour data\n",
        "\n",
        "train['datetime'] = pd.to_datetime(train['datetime'])\n",
        "test['datetime'] = pd.to_datetime(test['datetime'])\n",
        "train['Month']=pd.DatetimeIndex(train['datetime']).month\n",
        "test['Month']=pd.DatetimeIndex(test['datetime']).month\n",
        "train['Year']=pd.DatetimeIndex(train['datetime']).year\n",
        "test['Year']=pd.DatetimeIndex(test['datetime']).year\n",
        "train['WeekDay']=pd.DatetimeIndex(train['datetime']).weekday\n",
        "test['WeekDay']=pd.DatetimeIndex(test['datetime']).weekday\n",
        "train['Hour']=pd.DatetimeIndex(train['datetime']).hour\n",
        "test['Hour']=pd.DatetimeIndex(test['datetime']).hour\n",
        "train.drop(columns=['datetime'],axis=1,inplace=True)"
      ],
      "execution_count": null,
      "outputs": []
    },
    {
      "cell_type": "code",
      "metadata": {
        "id": "qgugIUEg9siK"
      },
      "source": [
        "categorical_cols.extend(['Month','WeekDay','Hour'])"
      ],
      "execution_count": null,
      "outputs": []
    },
    {
      "cell_type": "code",
      "metadata": {
        "id": "EVnOtBW991oX"
      },
      "source": [
        "#Encoding time data ordered by mean of label in each category\n",
        "def encodetime(train,test,col,target):\n",
        "    d3=train[[col,target]].groupby(col).mean()\n",
        "    d3.sort_values(by='count',ascending=False)\n",
        "    plt.scatter(x=d3.index,y=d3['count'])\n",
        "    d3=d3.sort_values(by='count')\n",
        "    d3['w']=np.arange(train[col].nunique())\n",
        "    dic=dict(zip(d3.index,d3['w']))\n",
        "    train[col]=train[col].map(dic)\n",
        "    test[col]=test[col].map(dic)"
      ],
      "execution_count": null,
      "outputs": []
    },
    {
      "cell_type": "code",
      "metadata": {
        "id": "4R7l-sFM-I_Q"
      },
      "source": [
        "encodetime(train,test,'Year',target)"
      ],
      "execution_count": null,
      "outputs": []
    },
    {
      "cell_type": "code",
      "metadata": {
        "id": "Uy0XAqN_-NwG"
      },
      "source": [
        "encodetime(train,test,'Month',target)"
      ],
      "execution_count": null,
      "outputs": []
    },
    {
      "cell_type": "code",
      "metadata": {
        "id": "Bkun4qhh-RYR"
      },
      "source": [
        "encodetime(train,test,'Hour',target)"
      ],
      "execution_count": null,
      "outputs": []
    },
    {
      "cell_type": "code",
      "metadata": {
        "id": "IP-jzSq9-Usc"
      },
      "source": [
        "encodetime(train,test,'WeekDay',target)"
      ],
      "execution_count": null,
      "outputs": []
    },
    {
      "cell_type": "markdown",
      "metadata": {
        "id": "lQKI4uxT-Z-e"
      },
      "source": [
        "### visualizing Catergorical columns"
      ]
    },
    {
      "cell_type": "code",
      "metadata": {
        "id": "6s-XDh2P-d2h"
      },
      "source": [
        "def boxplot(x,y,**kwargs):\n",
        "    sns.boxplot(x=x,y=y)\n",
        "    x=plt.xticks(rotation=90)\n",
        "f=pd.melt(train,id_vars=['count'],value_vars=categorical_cols)\n",
        "g=sns.FacetGrid(f,col='variable',col_wrap=2,sharex=False)\n",
        "g.map(boxplot,'value','count')"
      ],
      "execution_count": null,
      "outputs": []
    },
    {
      "cell_type": "markdown",
      "metadata": {
        "id": "jnXG_eVl-jY4"
      },
      "source": [
        "### visualizing numiric coumns"
      ]
    },
    {
      "cell_type": "code",
      "metadata": {
        "id": "GQvWdSOp-l8Y"
      },
      "source": [
        "sns.pairplot(train[[*numerical_cols,'count']])"
      ],
      "execution_count": null,
      "outputs": []
    },
    {
      "cell_type": "code",
      "metadata": {
        "id": "pCelTg7d-rbx"
      },
      "source": [
        "f, ax = plt.subplots(figsize=(15, 15))\n",
        "corr = train[[*numerical_cols,'count']].corr()\n",
        "sns.heatmap(corr,cmap=sns.diverging_palette(220, 10, as_cmap=True),square=True, ax=ax, annot = True)"
      ],
      "execution_count": null,
      "outputs": []
    },
    {
      "cell_type": "code",
      "metadata": {
        "id": "IujE-BjN-vBK"
      },
      "source": [
        "f, ax = plt.subplots(figsize=(15, 15))\n",
        "corr = train.corr()\n",
        "sns.heatmap(corr,cmap=sns.diverging_palette(220, 10, as_cmap=True),square=True, ax=ax, annot = True)"
      ],
      "execution_count": null,
      "outputs": []
    },
    {
      "cell_type": "markdown",
      "metadata": {
        "id": "94xQCYKf-24m"
      },
      "source": [
        "### data wranging"
      ]
    },
    {
      "cell_type": "code",
      "metadata": {
        "id": "UXOhO_VRQjYz"
      },
      "source": [
        "#계절과 대여관계\n",
        "train[['season','count']].groupby('season').mean()"
      ],
      "execution_count": null,
      "outputs": []
    },
    {
      "cell_type": "code",
      "metadata": {
        "id": "7B9OfjWTegSJ"
      },
      "source": [
        "sns.countplot(train['season'])"
      ],
      "execution_count": null,
      "outputs": []
    },
    {
      "cell_type": "markdown",
      "metadata": {
        "id": "X5mz4z2ARXwv"
      },
      "source": [
        "역시나 대여수는 여름가을 선선한 날이 가장 많았다.\n",
        "\n",
        "\n"
      ]
    },
    {
      "cell_type": "code",
      "metadata": {
        "id": "-j3CxyP2Qs-n"
      },
      "source": [
        "#holiday와 count\n",
        "train[['holiday','count']].groupby('holiday').mean()"
      ],
      "execution_count": null,
      "outputs": []
    },
    {
      "cell_type": "code",
      "metadata": {
        "id": "UNA1XI2ebHrh"
      },
      "source": [
        "sns.countplot(train['holiday'])"
      ],
      "execution_count": null,
      "outputs": []
    },
    {
      "cell_type": "markdown",
      "metadata": {
        "id": "cn0Rkv1Fan9N"
      },
      "source": [
        "휴일인날 보다 아닌날 더 이용량이 많다. 사실 어떤게 0이고 1인지 모르겠다....그리고 엄청난 차이를 보이는 건 아니다.\n"
      ]
    },
    {
      "cell_type": "code",
      "metadata": {
        "id": "ynDf-C7FRAM4"
      },
      "source": [
        "#workingday와 count\n",
        "train[['workingday','count']].groupby('workingday').mean()"
      ],
      "execution_count": null,
      "outputs": []
    },
    {
      "cell_type": "code",
      "metadata": {
        "id": "_0D0_6zcba1C"
      },
      "source": [
        "sns.countplot(train['workingday'])"
      ],
      "execution_count": null,
      "outputs": []
    },
    {
      "cell_type": "markdown",
      "metadata": {
        "id": "MWp9nK94aug-"
      },
      "source": [
        "workingday에 이용량이 더 많다. 하지만 엄청 큰차이라고 보긴 어렵다. "
      ]
    },
    {
      "cell_type": "code",
      "metadata": {
        "id": "Vs8a3t2Pe0E8"
      },
      "source": [
        "# 1-> spring\n",
        "# 2-> summer\n",
        "# 3-> fall\n",
        "# 4-> winter\n",
        "sns.catplot(x='weather',data=train,kind='count')"
      ],
      "execution_count": null,
      "outputs": []
    },
    {
      "cell_type": "markdown",
      "metadata": {
        "id": "mkL-k4--e7UJ"
      },
      "source": [
        "역시나 날씨에 영향을 가장 많이 받는 것을 알 수 있다. "
      ]
    },
    {
      "cell_type": "code",
      "metadata": {
        "id": "CxjLQaSpfCsS"
      },
      "source": [
        "#corelation matrix.\n",
        "cor_mat= train[:].corr()\n",
        "mask = np.array(cor_mat)\n",
        "mask[np.tril_indices_from(mask)] = False # to get the lower triangular shape only\n",
        "fig=plt.gcf()\n",
        "fig.set_size_inches(30,12)\n",
        "sns.heatmap(data=cor_mat,mask=mask,square=True,annot=True,cbar=True)"
      ],
      "execution_count": null,
      "outputs": []
    },
    {
      "cell_type": "markdown",
      "metadata": {
        "id": "dR2UQNx-_C9Y"
      },
      "source": [
        "### Transforming Label distribution"
      ]
    },
    {
      "cell_type": "code",
      "metadata": {
        "id": "VL8NMvAP_EsD"
      },
      "source": [
        "sns.displot(train[target] , kde=True, height=8.27, aspect=11.7/8.27)\n",
        "sns.displot(np.log(train[target]) , kde=True, height=8.27, aspect=11.7/8.27)"
      ],
      "execution_count": null,
      "outputs": []
    },
    {
      "cell_type": "markdown",
      "metadata": {
        "id": "5OvK3D3U_J8U"
      },
      "source": [
        "왼쪽으로 치우친 분포에서 로그 결과 사용"
      ]
    },
    {
      "cell_type": "code",
      "metadata": {
        "id": "NIGDfrwzAzdg"
      },
      "source": [
        "# def trans(x,l1=0.3,l2=0):\n",
        "#     if l1!=0:\n",
        "#         return ((x+l2)**l1-1)/l1\n",
        "#     else:\n",
        "#         return np.log(x+l2)\n",
        "# def rev_trans(x,l1=0.3,l2=0):\n",
        "#     return (x*l1+1)**(1/l1)-l2\n",
        "\n",
        "# z=train[target].apply(trans)   \n",
        "# sns.displot(z , kde=True, height=8.27, aspect=11.7/8.27)"
      ],
      "execution_count": null,
      "outputs": []
    },
    {
      "cell_type": "markdown",
      "metadata": {
        "id": "QsK6fKJqBDJU"
      },
      "source": [
        "정규분포로 변환하는거 배우지 않았니???\n",
        "그거 적용해보자!\n"
      ]
    },
    {
      "cell_type": "code",
      "metadata": {
        "id": "qnEesCJHBMll"
      },
      "source": [
        "#using box cox transform on the label column"
      ],
      "execution_count": null,
      "outputs": []
    },
    {
      "cell_type": "code",
      "metadata": {
        "id": "41qBr_ziBNQh"
      },
      "source": [
        "train"
      ],
      "execution_count": null,
      "outputs": []
    },
    {
      "cell_type": "markdown",
      "metadata": {
        "id": "kSMFC5zX0NTW"
      },
      "source": [
        "### feature engineering \n"
      ]
    },
    {
      "cell_type": "code",
      "metadata": {
        "id": "LdG8K6nXBXQf"
      },
      "source": [
        "#Encoding Weather and Season (One Hot Encoding)\n",
        "\n",
        "#train=pd.get_dummies(train,columns=['season','weather'])\n",
        "#test=pd.get_dummies(test,columns=['season','weather'])"
      ],
      "execution_count": null,
      "outputs": []
    },
    {
      "cell_type": "markdown",
      "metadata": {
        "id": "wxWha-heBeH7"
      },
      "source": [
        "이거도 인코딩 방법 여러개 정리해서 적용해보기!\n"
      ]
    },
    {
      "cell_type": "code",
      "metadata": {
        "id": "T4oSBate0w89"
      },
      "source": [
        "#훈련/검증세트 나누기\n",
        "train, val = train_test_split(train, train_size=0.8, random_state=2)\n",
        "train.shape, val.shape, test.shape"
      ],
      "execution_count": null,
      "outputs": []
    },
    {
      "cell_type": "code",
      "metadata": {
        "id": "92BlyGQe0Uhr"
      },
      "source": [
        "#데이터에서 타겟 특성 분리\n",
        "target = 'count'\n",
        "features = train.drop(columns=[target]).columns"
      ],
      "execution_count": null,
      "outputs": []
    },
    {
      "cell_type": "code",
      "metadata": {
        "id": "ihBvWWx-Bpu9"
      },
      "source": [
        "X_train = train[features]\n",
        "y_train = train[target]\n",
        "X_val = val[features]\n",
        "y_val = val[target]\n",
        "X_test = test[features]"
      ],
      "execution_count": null,
      "outputs": []
    },
    {
      "cell_type": "code",
      "metadata": {
        "id": "xY7lFW4dBvgS"
      },
      "source": [
        "X_train.shape, X_val.shape"
      ],
      "execution_count": null,
      "outputs": []
    },
    {
      "cell_type": "code",
      "metadata": {
        "id": "ODrDQCbOPvqi"
      },
      "source": [
        "X_train"
      ],
      "execution_count": null,
      "outputs": []
    },
    {
      "cell_type": "markdown",
      "metadata": {
        "id": "MoBb53EjB2NN"
      },
      "source": [
        "### Model Training and Testing"
      ]
    },
    {
      "cell_type": "code",
      "metadata": {
        "id": "-Y8VO7nngeuO"
      },
      "source": [
        "#튜닝전\n",
        "RFR = RandomForestRegressor()\n",
        "RFR.fit(X_train,np.log(y_train))  \n",
        "                       \n",
        "y_pred = np.exp(RFR.predict(X_val))"
      ],
      "execution_count": null,
      "outputs": []
    },
    {
      "cell_type": "code",
      "metadata": {
        "id": "hzI4iRRInVAm"
      },
      "source": [
        "print('훈련 정확도', RFR.score(X_train, np.log(y_train)))\n",
        "print('검증 정확도', RFR.score(X_val, np.log(y_val)))"
      ],
      "execution_count": null,
      "outputs": []
    },
    {
      "cell_type": "code",
      "metadata": {
        "id": "4qy9FzpvpIWT"
      },
      "source": [
        "print(f'MAE_Randomforest : {mean_absolute_error(y_val,y_pred)}')\n",
        "print(f'RMSE_Randomforest : {np.sqrt(mean_squared_error(y_val,y_pred))}')\n",
        "# print(f'RMSLE_XGB : {np.sqrt(mean_squared_log_error(y_val,y_pred))}')\n",
        "\n",
        "print(f'R2 : {r2_score(y_val,y_pred)}')"
      ],
      "execution_count": null,
      "outputs": []
    },
    {
      "cell_type": "code",
      "metadata": {
        "id": "dpshSBmzjCDX"
      },
      "source": [
        "# RandomizedSearchCV 하이퍼파라미터 설정\n",
        "pipe = make_pipeline(\n",
        "    OrdinalEncoder(),\n",
        "    SimpleImputer(),\n",
        "    RandomForestRegressor(max_depth= 20, #9\n",
        "                            max_features= 9,\n",
        "                        #    min_samples_leaf= 3,\n",
        "                        #    min_samples_split= 19,\n",
        "                           n_estimators = 376, #100\n",
        "                           n_jobs=-1,  \n",
        "                           random_state=2,\n",
        "                           oob_score=True))\n",
        "\n",
        "params = {'randomforestregressor__n_estimators': randint(200,400),\n",
        "          'randomforestregressor__max_depth': [1,5,10,20],\n",
        "        #   'randomforestregressor__min_samples_split': randint(1,20),\n",
        "        #   'randomforestregressor__min_samples_leaf': randint(2,20),\n",
        "          'randomforestregressor__max_features': randint(1,10)}"
      ],
      "execution_count": null,
      "outputs": []
    },
    {
      "cell_type": "code",
      "metadata": {
        "id": "DaQOeTF5kxDj"
      },
      "source": [
        "R_CV = RandomizedSearchCV(pipe,\n",
        "                          params,\n",
        "                          scoring=\"neg_mean_squared_error\",\n",
        "                          n_jobs = -1, \n",
        "                          verbose=1,\n",
        "                          n_iter=50,\n",
        "                          cv=5)"
      ],
      "execution_count": null,
      "outputs": []
    },
    {
      "cell_type": "code",
      "metadata": {
        "id": "TnsOJ7KJkiHI"
      },
      "source": [
        "R_CV.fit(X_train,y_train)\n",
        "\n",
        "print('최적 하이퍼파라미터:', R_CV.best_params_)\n",
        "print('CV MSE: ', -R_CV.best_score_)"
      ],
      "execution_count": null,
      "outputs": []
    },
    {
      "cell_type": "code",
      "metadata": {
        "id": "0jOYUpEFLIQu"
      },
      "source": [
        "pipe_opt = make_pipeline(\n",
        "    OrdinalEncoder(),\n",
        "    SimpleImputer(),\n",
        "    RandomForestRegressor(max_depth= 20, #9\n",
        "                           max_features= 9,\n",
        "                        #    min_samples_leaf= 3,\n",
        "                        #    min_samples_split= 19,\n",
        "                           n_estimators = 203, #100\n",
        "                           n_jobs=-1,  \n",
        "                           random_state=2,\n",
        "                           oob_score=True))\n",
        "\n",
        "tt2= TransformedTargetRegressor(regressor=pipe_opt,\n",
        "                               func=np.log1p,\n",
        "                               inverse_func=np.expm1)\n",
        "\n",
        "tt2.fit(X_train, y_train)\n",
        "print('훈련 정확도', tt2.score(X_train, y_train))\n",
        "print('검증 정확도', tt2.score(X_val, y_val))"
      ],
      "execution_count": null,
      "outputs": []
    },
    {
      "cell_type": "code",
      "metadata": {
        "id": "N12-BleHsVhS"
      },
      "source": [
        "y_pred2 = tt2.predict(X_val)\n",
        "\n",
        "print(f'MAE_Randomforest : {mean_absolute_error(y_val,y_pred2)}')\n",
        "print(f'RMSE_Randomforest : {np.sqrt(mean_squared_error(y_val,y_pred2))}')\n",
        "# print(f'RMSLE_XGB : {np.sqrt(mean_squared_log_error(y_val,y_pred))}')\n",
        "\n",
        "print(f'R2 : {r2_score(y_val,y_pred2)}')"
      ],
      "execution_count": null,
      "outputs": []
    },
    {
      "cell_type": "markdown",
      "metadata": {
        "id": "ibHdfeUMppaB"
      },
      "source": [
        "하이퍼파라미터 튜닝을 했는데 성능이 그닥...\n",
        "\n"
      ]
    }
  ]
}